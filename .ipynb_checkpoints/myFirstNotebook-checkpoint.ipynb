{
 "cells": [
  {
   "cell_type": "code",
   "execution_count": 1,
   "id": "8c19da1c-6c76-4d7c-9692-c1be7ffa2cb9",
   "metadata": {},
   "outputs": [
    {
     "name": "stdout",
     "output_type": "stream",
     "text": [
      "My first python\n"
     ]
    }
   ],
   "source": [
    "print(\"My first python\")"
   ]
  },
  {
   "cell_type": "code",
   "execution_count": 3,
   "id": "e46813dc-6a24-4b86-ba0f-7f55f0f366cd",
   "metadata": {},
   "outputs": [
    {
     "name": "stdout",
     "output_type": "stream",
     "text": [
      "new\n"
     ]
    }
   ],
   "source": [
    "print(\"new\")"
   ]
  },
  {
   "cell_type": "markdown",
   "id": "900a5b12-8b79-409e-9dd1-5c52ea07b724",
   "metadata": {},
   "source": [
    "Markdown is used to write notes . Kind of comments in between"
   ]
  },
  {
   "cell_type": "code",
   "execution_count": null,
   "id": "a940464e-b6d5-4440-88c9-b5201c0ffe3a",
   "metadata": {},
   "outputs": [],
   "source": []
  }
 ],
 "metadata": {
  "kernelspec": {
   "display_name": "Python 3 (ipykernel)",
   "language": "python",
   "name": "python3"
  },
  "language_info": {
   "codemirror_mode": {
    "name": "ipython",
    "version": 3
   },
   "file_extension": ".py",
   "mimetype": "text/x-python",
   "name": "python",
   "nbconvert_exporter": "python",
   "pygments_lexer": "ipython3",
   "version": "3.12.4"
  }
 },
 "nbformat": 4,
 "nbformat_minor": 5
}
