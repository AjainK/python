{
 "cells": [
  {
   "cell_type": "code",
   "execution_count": 2,
   "id": "6de0330b-8e48-47f8-b2f8-0ad80aabc509",
   "metadata": {},
   "outputs": [],
   "source": [
    " a = 5"
   ]
  },
  {
   "cell_type": "code",
   "execution_count": 4,
   "id": "bd26c9b9-a58e-4e21-a3f1-728a141c22fc",
   "metadata": {},
   "outputs": [
    {
     "data": {
      "text/plain": [
       "5"
      ]
     },
     "execution_count": 4,
     "metadata": {},
     "output_type": "execute_result"
    }
   ],
   "source": [
    "a"
   ]
  },
  {
   "cell_type": "code",
   "execution_count": 6,
   "id": "e8f28aca-a5c8-49db-ab0d-53668d5fdca5",
   "metadata": {},
   "outputs": [],
   "source": [
    "a = 45"
   ]
  },
  {
   "cell_type": "code",
   "execution_count": 8,
   "id": "a0b6d472-31f9-47e8-8a0d-1511930f8f76",
   "metadata": {},
   "outputs": [
    {
     "data": {
      "text/plain": [
       "45"
      ]
     },
     "execution_count": 8,
     "metadata": {},
     "output_type": "execute_result"
    }
   ],
   "source": [
    "a"
   ]
  },
  {
   "cell_type": "code",
   "execution_count": 10,
   "id": "d85d7cde-563a-443c-b3a5-34f3a5f2260d",
   "metadata": {},
   "outputs": [
    {
     "data": {
      "text/plain": [
       "248063644451341145494649182395412689744530581492654164321720600128173828125"
      ]
     },
     "execution_count": 10,
     "metadata": {},
     "output_type": "execute_result"
    }
   ],
   "source": [
    "a**a"
   ]
  },
  {
   "cell_type": "code",
   "execution_count": 12,
   "id": "fbc74258-220f-421b-955a-e1c3fc3d87b5",
   "metadata": {},
   "outputs": [],
   "source": [
    "a=10"
   ]
  },
  {
   "cell_type": "code",
   "execution_count": 14,
   "id": "918065b0-f4d6-4a7d-8236-c2cfc4a93dc0",
   "metadata": {},
   "outputs": [
    {
     "data": {
      "text/plain": [
       "10"
      ]
     },
     "execution_count": 14,
     "metadata": {},
     "output_type": "execute_result"
    }
   ],
   "source": [
    "a"
   ]
  },
  {
   "cell_type": "code",
   "execution_count": 26,
   "id": "cd47288d-eaaa-4929-a7da-27adf94c2cb6",
   "metadata": {},
   "outputs": [],
   "source": [
    "a = a+a"
   ]
  },
  {
   "cell_type": "code",
   "execution_count": 28,
   "id": "96ae2033-2065-42a1-9744-bccb6dee42d0",
   "metadata": {},
   "outputs": [
    {
     "data": {
      "text/plain": [
       "80"
      ]
     },
     "execution_count": 28,
     "metadata": {},
     "output_type": "execute_result"
    }
   ],
   "source": [
    "a"
   ]
  },
  {
   "cell_type": "code",
   "execution_count": 30,
   "id": "8f6690c1-7193-43e6-960f-51d8017e1966",
   "metadata": {},
   "outputs": [
    {
     "data": {
      "text/plain": [
       "int"
      ]
     },
     "execution_count": 30,
     "metadata": {},
     "output_type": "execute_result"
    }
   ],
   "source": [
    "type(a)"
   ]
  },
  {
   "cell_type": "code",
   "execution_count": 32,
   "id": "c5ce477e-fbe3-46f3-a109-05455c08cf08",
   "metadata": {},
   "outputs": [],
   "source": [
    "a = 40.2"
   ]
  },
  {
   "cell_type": "code",
   "execution_count": 34,
   "id": "ab53cb3a-b044-48e3-81aa-110f7076ed2d",
   "metadata": {},
   "outputs": [
    {
     "data": {
      "text/plain": [
       "float"
      ]
     },
     "execution_count": 34,
     "metadata": {},
     "output_type": "execute_result"
    }
   ],
   "source": [
    "type(a)"
   ]
  },
  {
   "cell_type": "code",
   "execution_count": 36,
   "id": "f9cf63f9-74f1-4a6d-8661-ad0dc71d3a72",
   "metadata": {},
   "outputs": [],
   "source": [
    "int = 4"
   ]
  },
  {
   "cell_type": "code",
   "execution_count": 38,
   "id": "d392b495-b442-4070-bb01-1995951d38d3",
   "metadata": {},
   "outputs": [
    {
     "data": {
      "text/plain": [
       "4"
      ]
     },
     "execution_count": 38,
     "metadata": {},
     "output_type": "execute_result"
    }
   ],
   "source": [
    "int"
   ]
  },
  {
   "cell_type": "code",
   "execution_count": 40,
   "id": "49bafe40-f3f5-4786-b9ca-b0cf666b2212",
   "metadata": {},
   "outputs": [],
   "source": [
    "my_account_balance = 10000\n",
    "my_home_loan = 25000\n",
    "my_car_loan = 10000\n",
    "my_account_balance = my_account_balance-my_home_loan-my_car_loan\n"
   ]
  },
  {
   "cell_type": "code",
   "execution_count": 42,
   "id": "2733590b-7b9a-4dee-8202-455b076e7290",
   "metadata": {},
   "outputs": [
    {
     "data": {
      "text/plain": [
       "-25000"
      ]
     },
     "execution_count": 42,
     "metadata": {},
     "output_type": "execute_result"
    }
   ],
   "source": [
    "my_account_balance"
   ]
  },
  {
   "cell_type": "code",
   "execution_count": null,
   "id": "482eaec9-e39e-487f-9edf-078e2d781040",
   "metadata": {},
   "outputs": [],
   "source": []
  }
 ],
 "metadata": {
  "kernelspec": {
   "display_name": "Python 3 (ipykernel)",
   "language": "python",
   "name": "python3"
  },
  "language_info": {
   "codemirror_mode": {
    "name": "ipython",
    "version": 3
   },
   "file_extension": ".py",
   "mimetype": "text/x-python",
   "name": "python",
   "nbconvert_exporter": "python",
   "pygments_lexer": "ipython3",
   "version": "3.12.4"
  }
 },
 "nbformat": 4,
 "nbformat_minor": 5
}
