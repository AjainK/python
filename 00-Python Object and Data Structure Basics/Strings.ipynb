{
 "cells": [
  {
   "cell_type": "code",
   "execution_count": 1,
   "id": "f0b4f777-1266-431a-8431-7fcc518935a7",
   "metadata": {},
   "outputs": [
    {
     "data": {
      "text/plain": [
       "\"Python programming using string's\""
      ]
     },
     "execution_count": 1,
     "metadata": {},
     "output_type": "execute_result"
    }
   ],
   "source": [
    "\"Python programming using string's\""
   ]
  },
  {
   "cell_type": "code",
   "execution_count": 7,
   "id": "33ee7ecd-62d5-42b9-86f9-75f50b93791d",
   "metadata": {},
   "outputs": [
    {
     "name": "stdout",
     "output_type": "stream",
     "text": [
      "hello \n",
      "python\n"
     ]
    }
   ],
   "source": [
    "print(\"hello \\npython\")"
   ]
  },
  {
   "cell_type": "code",
   "execution_count": 9,
   "id": "d2cbdb36-4249-4499-8a29-e4f78380fc66",
   "metadata": {},
   "outputs": [
    {
     "name": "stdout",
     "output_type": "stream",
     "text": [
      "hello\tpython\n"
     ]
    }
   ],
   "source": [
    "print(\"hello\\tpython\")"
   ]
  },
  {
   "cell_type": "code",
   "execution_count": 11,
   "id": "760c9a02-64c5-4a5b-8171-5ee598d0d54a",
   "metadata": {},
   "outputs": [
    {
     "data": {
      "text/plain": [
       "12"
      ]
     },
     "execution_count": 11,
     "metadata": {},
     "output_type": "execute_result"
    }
   ],
   "source": [
    "len(\"hello python\")"
   ]
  },
  {
   "cell_type": "code",
   "execution_count": 91,
   "id": "caa9fecc-1c5b-4b62-a876-a583cfd7fdc1",
   "metadata": {},
   "outputs": [
    {
     "data": {
      "text/plain": [
       "'Hello pytho'"
      ]
     },
     "execution_count": 91,
     "metadata": {},
     "output_type": "execute_result"
    }
   ],
   "source": [
    "mystring = \"Hello python\"\n",
    "mystring[0:11:1]"
   ]
  },
  {
   "cell_type": "code",
   "execution_count": 1,
   "id": "3b88b062-bbe0-40de-8353-478083f19a05",
   "metadata": {},
   "outputs": [],
   "source": [
    "mystring = \"My first python string\""
   ]
  },
  {
   "cell_type": "code",
   "execution_count": 3,
   "id": "83fee9b3-9e82-40e2-8192-4b176c1c4c08",
   "metadata": {},
   "outputs": [
    {
     "data": {
      "text/plain": [
       "'My first python string'"
      ]
     },
     "execution_count": 3,
     "metadata": {},
     "output_type": "execute_result"
    }
   ],
   "source": [
    "mystring"
   ]
  },
  {
   "cell_type": "code",
   "execution_count": 15,
   "id": "fe05e2ed-5604-4a64-9633-56a8c8d06ac2",
   "metadata": {},
   "outputs": [
    {
     "data": {
      "text/plain": [
       "'Mfps'"
      ]
     },
     "execution_count": 15,
     "metadata": {},
     "output_type": "execute_result"
    }
   ],
   "source": [
    "mystring[0] + mystring[3] + mystring[-13] + mystring[-6] "
   ]
  },
  {
   "cell_type": "code",
   "execution_count": 17,
   "id": "ff5e7377-c044-4079-8a37-fb14a2664a0e",
   "metadata": {},
   "outputs": [
    {
     "data": {
      "text/plain": [
       "22"
      ]
     },
     "execution_count": 17,
     "metadata": {},
     "output_type": "execute_result"
    }
   ],
   "source": [
    "len(mystring)"
   ]
  },
  {
   "cell_type": "code",
   "execution_count": 19,
   "id": "d749448b-b3f6-4dd6-b0d0-ae1c456b8462",
   "metadata": {},
   "outputs": [
    {
     "data": {
      "text/plain": [
       "'python string'"
      ]
     },
     "execution_count": 19,
     "metadata": {},
     "output_type": "execute_result"
    }
   ],
   "source": [
    "mystring[-13:]"
   ]
  },
  {
   "cell_type": "code",
   "execution_count": 23,
   "id": "bd17ccaf-a918-46d9-bcb0-8e1cc7123ae5",
   "metadata": {},
   "outputs": [
    {
     "data": {
      "text/plain": [
       "'My first '"
      ]
     },
     "execution_count": 23,
     "metadata": {},
     "output_type": "execute_result"
    }
   ],
   "source": [
    "mystring[0:-13]"
   ]
  },
  {
   "cell_type": "code",
   "execution_count": 25,
   "id": "915970ad-4534-43f6-91c3-54bd79b587fd",
   "metadata": {},
   "outputs": [
    {
     "data": {
      "text/plain": [
       "'My first'"
      ]
     },
     "execution_count": 25,
     "metadata": {},
     "output_type": "execute_result"
    }
   ],
   "source": [
    "mystring[0:8]"
   ]
  },
  {
   "cell_type": "code",
   "execution_count": 27,
   "id": "6538edde-f03d-4e57-b594-bc99e4cbcd93",
   "metadata": {},
   "outputs": [
    {
     "data": {
      "text/plain": [
       "'My first python string'"
      ]
     },
     "execution_count": 27,
     "metadata": {},
     "output_type": "execute_result"
    }
   ],
   "source": [
    " mystring[:]"
   ]
  },
  {
   "cell_type": "code",
   "execution_count": 29,
   "id": "ab0d5f9b-ea7d-4848-9196-1be0cc6c6218",
   "metadata": {},
   "outputs": [
    {
     "data": {
      "text/plain": [
       "'My first'"
      ]
     },
     "execution_count": 29,
     "metadata": {},
     "output_type": "execute_result"
    }
   ],
   "source": [
    "mystring[:8]"
   ]
  },
  {
   "cell_type": "code",
   "execution_count": 33,
   "id": "439d2e13-148e-4338-a2e1-fbc888d01d05",
   "metadata": {},
   "outputs": [
    {
     "data": {
      "text/plain": [
       "'python '"
      ]
     },
     "execution_count": 33,
     "metadata": {},
     "output_type": "execute_result"
    }
   ],
   "source": [
    "mystring[-13:-6]"
   ]
  },
  {
   "cell_type": "code",
   "execution_count": 35,
   "id": "b312a030-b120-43ac-87a5-f116448fbed3",
   "metadata": {},
   "outputs": [
    {
     "data": {
      "text/plain": [
       "'python'"
      ]
     },
     "execution_count": 35,
     "metadata": {},
     "output_type": "execute_result"
    }
   ],
   "source": [
    "mystring[-13:-7]"
   ]
  },
  {
   "cell_type": "code",
   "execution_count": 53,
   "id": "e7b6ca2a-41aa-4390-bff4-dd97921b6480",
   "metadata": {},
   "outputs": [],
   "source": [
    "mystring = \"My first python string\""
   ]
  },
  {
   "cell_type": "code",
   "execution_count": 55,
   "id": "255d5f29-deb6-453b-b060-1bf59814df64",
   "metadata": {},
   "outputs": [
    {
     "data": {
      "text/plain": [
       "'My first python string'"
      ]
     },
     "execution_count": 55,
     "metadata": {},
     "output_type": "execute_result"
    }
   ],
   "source": [
    "mystring"
   ]
  },
  {
   "cell_type": "code",
   "execution_count": 57,
   "id": "8f8534d8-aed5-4640-bab6-df3a63b3a003",
   "metadata": {},
   "outputs": [
    {
     "data": {
      "text/plain": [
       "'gnirts nohtyp tsrif yM'"
      ]
     },
     "execution_count": 57,
     "metadata": {},
     "output_type": "execute_result"
    }
   ],
   "source": [
    "mystring[::-1]"
   ]
  },
  {
   "cell_type": "code",
   "execution_count": 67,
   "id": "3b344a0e-ce0b-43a1-8c6d-bd71bf571e71",
   "metadata": {},
   "outputs": [
    {
     "data": {
      "text/plain": [
       "'first python strin'"
      ]
     },
     "execution_count": 67,
     "metadata": {},
     "output_type": "execute_result"
    }
   ],
   "source": [
    "mystring[3:-1]"
   ]
  },
  {
   "cell_type": "code",
   "execution_count": 69,
   "id": "60abe00c-679f-4c1b-8a95-6f3059b83585",
   "metadata": {},
   "outputs": [
    {
     "data": {
      "text/plain": [
       "'f yM'"
      ]
     },
     "execution_count": 69,
     "metadata": {},
     "output_type": "execute_result"
    }
   ],
   "source": [
    "mystring[3::-1]"
   ]
  },
  {
   "cell_type": "code",
   "execution_count": 77,
   "id": "61be54f0-bc59-435b-8cdc-aaa8d9070213",
   "metadata": {},
   "outputs": [
    {
     "data": {
      "text/plain": [
       "'f or'"
      ]
     },
     "execution_count": 77,
     "metadata": {},
     "output_type": "execute_result"
    }
   ],
   "source": [
    "mystring[3::5]"
   ]
  },
  {
   "cell_type": "code",
   "execution_count": 79,
   "id": "518b338b-1e98-4120-8382-508f7c840c06",
   "metadata": {},
   "outputs": [
    {
     "data": {
      "text/plain": [
       "'My first python string'"
      ]
     },
     "execution_count": 79,
     "metadata": {},
     "output_type": "execute_result"
    }
   ],
   "source": [
    "mystring[::]"
   ]
  },
  {
   "cell_type": "code",
   "execution_count": 81,
   "id": "87ab57a8-91d7-4883-ab2e-ef2dbb12609c",
   "metadata": {},
   "outputs": [
    {
     "data": {
      "text/plain": [
       "'M is yhnsrn'"
      ]
     },
     "execution_count": 81,
     "metadata": {},
     "output_type": "execute_result"
    }
   ],
   "source": [
    "mystring[::2]"
   ]
  },
  {
   "cell_type": "code",
   "execution_count": 83,
   "id": "c733e21c-015b-412e-9303-606af09106b8",
   "metadata": {},
   "outputs": [
    {
     "data": {
      "text/plain": [
       "'Mry n'"
      ]
     },
     "execution_count": 83,
     "metadata": {},
     "output_type": "execute_result"
    }
   ],
   "source": [
    "mystring[::5]"
   ]
  },
  {
   "cell_type": "code",
   "execution_count": 85,
   "id": "4b5640f9-712f-4766-9e30-a73b627f207d",
   "metadata": {},
   "outputs": [
    {
     "data": {
      "text/plain": [
       "'gnirts nohtyp tsrif yM'"
      ]
     },
     "execution_count": 85,
     "metadata": {},
     "output_type": "execute_result"
    }
   ],
   "source": [
    "mystring[::-1]"
   ]
  },
  {
   "cell_type": "code",
   "execution_count": 89,
   "id": "cb697ae5-b061-49f1-b2b7-00cf924248c9",
   "metadata": {},
   "outputs": [
    {
     "name": "stdout",
     "output_type": "stream",
     "text": [
      "f\n"
     ]
    }
   ],
   "source": [
    "print(mystring[3])"
   ]
  },
  {
   "cell_type": "code",
   "execution_count": 93,
   "id": "dce164ce-6cb7-4c3a-a7cf-75e1ab85ae30",
   "metadata": {},
   "outputs": [
    {
     "data": {
      "text/plain": [
       "''"
      ]
     },
     "execution_count": 93,
     "metadata": {},
     "output_type": "execute_result"
    }
   ],
   "source": [
    "mystring[-1:2]"
   ]
  },
  {
   "cell_type": "code",
   "execution_count": 95,
   "id": "16612a11-ffd5-4b48-8243-45bf20661744",
   "metadata": {},
   "outputs": [
    {
     "data": {
      "text/plain": [
       "'Hello python'"
      ]
     },
     "execution_count": 95,
     "metadata": {},
     "output_type": "execute_result"
    }
   ],
   "source": [
    "mystring"
   ]
  },
  {
   "cell_type": "code",
   "execution_count": 109,
   "id": "5706a972-c758-476d-b6fe-2052b688f918",
   "metadata": {},
   "outputs": [
    {
     "data": {
      "text/plain": [
       "'n'"
      ]
     },
     "execution_count": 109,
     "metadata": {},
     "output_type": "execute_result"
    }
   ],
   "source": [
    "mystring[-1]"
   ]
  },
  {
   "cell_type": "code",
   "execution_count": 115,
   "id": "588a39d8-fb8c-4997-b254-c4d325afc372",
   "metadata": {},
   "outputs": [
    {
     "data": {
      "text/plain": [
       "'nohtyp olleH'"
      ]
     },
     "execution_count": 115,
     "metadata": {},
     "output_type": "execute_result"
    }
   ],
   "source": [
    "mystring[::-1]"
   ]
  },
  {
   "cell_type": "code",
   "execution_count": 117,
   "id": "f350305f-84ed-4b50-8335-7e256e3ab9fc",
   "metadata": {},
   "outputs": [
    {
     "data": {
      "text/plain": [
       "'olleH'"
      ]
     },
     "execution_count": 117,
     "metadata": {},
     "output_type": "execute_result"
    }
   ],
   "source": [
    "mystring[4::-1]"
   ]
  },
  {
   "cell_type": "code",
   "execution_count": 131,
   "id": "fa39cb64-5c5e-4482-befe-b596d6d22ab0",
   "metadata": {},
   "outputs": [
    {
     "data": {
      "text/plain": [
       "'nohtyp olleH'"
      ]
     },
     "execution_count": 131,
     "metadata": {},
     "output_type": "execute_result"
    }
   ],
   "source": [
    "mystring[11::-1]"
   ]
  },
  {
   "cell_type": "code",
   "execution_count": 141,
   "id": "ca6a8a14-2e3e-47b7-a8a8-e7330428ed86",
   "metadata": {},
   "outputs": [],
   "source": [
    "name = \"Sam\""
   ]
  },
  {
   "cell_type": "code",
   "execution_count": 143,
   "id": "21cd0260-4ddd-4027-b098-e5f03b82631b",
   "metadata": {},
   "outputs": [
    {
     "name": "stdout",
     "output_type": "stream",
     "text": [
      "Sam\n"
     ]
    }
   ],
   "source": [
    "print(name)"
   ]
  },
  {
   "cell_type": "code",
   "execution_count": 237,
   "id": "61d53a93-a44f-438b-bfba-4362c83da05c",
   "metadata": {},
   "outputs": [],
   "source": [
    "name = \"D\" + name[1:]"
   ]
  },
  {
   "cell_type": "code",
   "execution_count": 151,
   "id": "e14e1f64-c814-4c69-b216-4a701272009a",
   "metadata": {},
   "outputs": [
    {
     "data": {
      "text/plain": [
       "'Dam'"
      ]
     },
     "execution_count": 151,
     "metadata": {},
     "output_type": "execute_result"
    }
   ],
   "source": [
    "name"
   ]
  },
  {
   "cell_type": "code",
   "execution_count": 161,
   "id": "2fe8c951-a0c6-46c3-a3f7-144674ead885",
   "metadata": {},
   "outputs": [],
   "source": [
    "y = \"Python strings\" + \" are not that difficult\""
   ]
  },
  {
   "cell_type": "code",
   "execution_count": 163,
   "id": "6c49cc59-844a-428f-a321-fd1383765260",
   "metadata": {},
   "outputs": [
    {
     "data": {
      "text/plain": [
       "'Python strings are not that difficult'"
      ]
     },
     "execution_count": 163,
     "metadata": {},
     "output_type": "execute_result"
    }
   ],
   "source": [
    "y"
   ]
  },
  {
   "cell_type": "code",
   "execution_count": 167,
   "id": "29ce8ea7-1019-4748-8b35-6c5214fa7c2d",
   "metadata": {},
   "outputs": [
    {
     "data": {
      "text/plain": [
       "False"
      ]
     },
     "execution_count": 167,
     "metadata": {},
     "output_type": "execute_result"
    }
   ],
   "source": [
    "y.isupper()"
   ]
  },
  {
   "cell_type": "code",
   "execution_count": 169,
   "id": "37c86d34-600b-441a-b96f-061ec7c8bd4f",
   "metadata": {},
   "outputs": [
    {
     "data": {
      "text/plain": [
       "'PYTHON STRINGS ARE NOT THAT DIFFICULT'"
      ]
     },
     "execution_count": 169,
     "metadata": {},
     "output_type": "execute_result"
    }
   ],
   "source": [
    "y.upper()"
   ]
  },
  {
   "cell_type": "code",
   "execution_count": 171,
   "id": "2a48376a-d83b-4004-8f26-ad520e415dbd",
   "metadata": {},
   "outputs": [
    {
     "data": {
      "text/plain": [
       "False"
      ]
     },
     "execution_count": 171,
     "metadata": {},
     "output_type": "execute_result"
    }
   ],
   "source": [
    "y.isupper()"
   ]
  },
  {
   "cell_type": "code",
   "execution_count": 173,
   "id": "ed227169-facc-47c9-969e-cdd407c05409",
   "metadata": {},
   "outputs": [
    {
     "data": {
      "text/plain": [
       "False"
      ]
     },
     "execution_count": 173,
     "metadata": {},
     "output_type": "execute_result"
    }
   ],
   "source": [
    "y.islower()"
   ]
  },
  {
   "cell_type": "code",
   "execution_count": 175,
   "id": "30652452-3838-4eb5-a0cd-ba384888b5b3",
   "metadata": {},
   "outputs": [
    {
     "data": {
      "text/plain": [
       "'python strings are not that difficult'"
      ]
     },
     "execution_count": 175,
     "metadata": {},
     "output_type": "execute_result"
    }
   ],
   "source": [
    "y.lower()"
   ]
  },
  {
   "cell_type": "code",
   "execution_count": 177,
   "id": "c17d76e1-8d59-4c02-8640-a037bdc040ae",
   "metadata": {},
   "outputs": [
    {
     "data": {
      "text/plain": [
       "['Python', 'strings', 'are', 'not', 'that', 'difficult']"
      ]
     },
     "execution_count": 177,
     "metadata": {},
     "output_type": "execute_result"
    }
   ],
   "source": [
    "y.split()"
   ]
  },
  {
   "cell_type": "code",
   "execution_count": 179,
   "id": "992cd0af-a8f3-426a-9cd5-89a3596a5cfc",
   "metadata": {},
   "outputs": [
    {
     "data": {
      "text/plain": [
       "['Python strings ', ' not that difficult']"
      ]
     },
     "execution_count": 179,
     "metadata": {},
     "output_type": "execute_result"
    }
   ],
   "source": [
    "y.split(\"are\")"
   ]
  },
  {
   "cell_type": "code",
   "execution_count": 181,
   "id": "e9a5c570-9890-4d69-a5e8-0d91c1051148",
   "metadata": {},
   "outputs": [
    {
     "data": {
      "text/plain": [
       "['Py', 'hon s', 'rings are no', ' ', 'ha', ' difficul', '']"
      ]
     },
     "execution_count": 181,
     "metadata": {},
     "output_type": "execute_result"
    }
   ],
   "source": [
    "y.split(\"t\")"
   ]
  },
  {
   "cell_type": "code",
   "execution_count": 189,
   "id": "e6c8ad79-8fd7-465e-a8e5-78f81cd2cb85",
   "metadata": {},
   "outputs": [
    {
     "name": "stdout",
     "output_type": "stream",
     "text": [
      "my name is ajain\n"
     ]
    }
   ],
   "source": [
    "print(\"{} {} {} {}\".format('my','name','is','ajain'))"
   ]
  },
  {
   "cell_type": "code",
   "execution_count": 191,
   "id": "e19f75d3-2bad-4d0b-9a1a-4acc8f1283cf",
   "metadata": {},
   "outputs": [
    {
     "name": "stdout",
     "output_type": "stream",
     "text": [
      "ajain is my name\n"
     ]
    }
   ],
   "source": [
    "print(\"{3} {2} {0} {1}\".format('my','name','is','ajain'))"
   ]
  },
  {
   "cell_type": "code",
   "execution_count": 193,
   "id": "5c21a7f9-7636-4fc0-8950-e49fea9a9a16",
   "metadata": {},
   "outputs": [
    {
     "name": "stdout",
     "output_type": "stream",
     "text": [
      "ajain is my name\n"
     ]
    }
   ],
   "source": [
    "print(\"{a} {i} {m} {n}\".format(m='my',n='name',i='is',a='ajain'))"
   ]
  },
  {
   "cell_type": "code",
   "execution_count": 195,
   "id": "4b7a3254-07b0-4371-82f1-617884ced956",
   "metadata": {},
   "outputs": [
    {
     "name": "stdout",
     "output_type": "stream",
     "text": [
      "0.1001001001001001\n"
     ]
    }
   ],
   "source": [
    "print(100/999)"
   ]
  },
  {
   "cell_type": "code",
   "execution_count": 197,
   "id": "87da738a-2776-42e2-85b2-ec468647578f",
   "metadata": {},
   "outputs": [
    {
     "name": "stdout",
     "output_type": "stream",
     "text": [
      "The result is 0.1001001001001001\n"
     ]
    }
   ],
   "source": [
    "print(\"The result is {}\".format(100/999))"
   ]
  },
  {
   "cell_type": "code",
   "execution_count": 199,
   "id": "9bed14c1-bf7b-41be-bcb7-dab586a70f50",
   "metadata": {},
   "outputs": [
    {
     "name": "stdout",
     "output_type": "stream",
     "text": [
      "The result is 0.1001001001001001\n"
     ]
    }
   ],
   "source": [
    "print(\"The result is {r}\".format(r=100/999))"
   ]
  },
  {
   "cell_type": "code",
   "execution_count": 203,
   "id": "920c953f-da8e-4bde-b174-27493cd07a59",
   "metadata": {},
   "outputs": [
    {
     "name": "stdout",
     "output_type": "stream",
     "text": [
      "The result is 0.129\n"
     ]
    }
   ],
   "source": [
    "print(\"The result is {r:1.3f}\".format(r=100/777))"
   ]
  },
  {
   "cell_type": "code",
   "execution_count": 213,
   "id": "a1cd58a3-f959-4e09-bb16-1b4fb06b9a9f",
   "metadata": {},
   "outputs": [
    {
     "name": "stdout",
     "output_type": "stream",
     "text": [
      "The result is 9.52381\n"
     ]
    }
   ],
   "source": [
    "print(\"The result is {r:1.5f}\".format(r=100/10.5))"
   ]
  },
  {
   "cell_type": "code",
   "execution_count": 215,
   "id": "4dfb17d1-677a-48c9-a9a6-efeface69835",
   "metadata": {},
   "outputs": [],
   "source": [
    "# \"format(value:width:precision f)\""
   ]
  },
  {
   "cell_type": "code",
   "execution_count": 221,
   "id": "047f0d69-f9c7-4e01-a360-fb96efd1f6df",
   "metadata": {},
   "outputs": [],
   "source": [
    "myname = \"My name is Ajain\""
   ]
  },
  {
   "cell_type": "code",
   "execution_count": 223,
   "id": "030727a8-9ad5-4b42-9dfa-7ef95aba2881",
   "metadata": {},
   "outputs": [
    {
     "data": {
      "text/plain": [
       "'My name is Ajain'"
      ]
     },
     "execution_count": 223,
     "metadata": {},
     "output_type": "execute_result"
    }
   ],
   "source": [
    "myname"
   ]
  },
  {
   "cell_type": "code",
   "execution_count": 225,
   "id": "8eafde31-da7a-4e2b-a201-d266fcca03e1",
   "metadata": {},
   "outputs": [
    {
     "name": "stdout",
     "output_type": "stream",
     "text": [
      "My name is Ajain\n"
     ]
    }
   ],
   "source": [
    "print(\"{}\".format(myname))"
   ]
  },
  {
   "cell_type": "code",
   "execution_count": 227,
   "id": "f62947a6-30f2-45a4-adbb-a35bdfbf7bed",
   "metadata": {},
   "outputs": [],
   "source": [
    "myname = \"Ajain\""
   ]
  },
  {
   "cell_type": "code",
   "execution_count": 229,
   "id": "1e86c27f-ef07-453b-951a-c1bb9de8c0ee",
   "metadata": {},
   "outputs": [
    {
     "name": "stdout",
     "output_type": "stream",
     "text": [
      "My name is Ajain\n"
     ]
    }
   ],
   "source": [
    "print(\"My name is {}\".format(myname))"
   ]
  },
  {
   "cell_type": "code",
   "execution_count": 231,
   "id": "15422eb6-b144-41f7-ba7d-45f6352a688b",
   "metadata": {},
   "outputs": [
    {
     "name": "stdout",
     "output_type": "stream",
     "text": [
      " My name is Ajain\n"
     ]
    }
   ],
   "source": [
    "print(f\" My name is {myname}\")"
   ]
  },
  {
   "cell_type": "code",
   "execution_count": 233,
   "id": "7b57cd81-e9a9-400c-a8b4-55c2181e5874",
   "metadata": {},
   "outputs": [],
   "source": [
    "myage = 32"
   ]
  },
  {
   "cell_type": "code",
   "execution_count": 235,
   "id": "ef757cbc-0826-4184-9302-486abcee373c",
   "metadata": {},
   "outputs": [
    {
     "name": "stdout",
     "output_type": "stream",
     "text": [
      "Ajain is 32 years old\n"
     ]
    }
   ],
   "source": [
    "print(f\"{myname} is {myage} years old\")"
   ]
  },
  {
   "cell_type": "code",
   "execution_count": null,
   "id": "22127c84-61a7-4bce-bdc6-164c941a2f56",
   "metadata": {},
   "outputs": [],
   "source": []
  }
 ],
 "metadata": {
  "kernelspec": {
   "display_name": "Python 3 (ipykernel)",
   "language": "python",
   "name": "python3"
  },
  "language_info": {
   "codemirror_mode": {
    "name": "ipython",
    "version": 3
   },
   "file_extension": ".py",
   "mimetype": "text/x-python",
   "name": "python",
   "nbconvert_exporter": "python",
   "pygments_lexer": "ipython3",
   "version": "3.12.4"
  }
 },
 "nbformat": 4,
 "nbformat_minor": 5
}
